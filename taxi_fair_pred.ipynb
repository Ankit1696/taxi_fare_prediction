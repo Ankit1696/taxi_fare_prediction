{
 "cells": [
  {
   "cell_type": "code",
   "execution_count": 5,
   "id": "89ebf652",
   "metadata": {},
   "outputs": [],
   "source": [
    "# import important libraries \n",
    "import pandas as pd\n",
    "import numpy as np\n",
    "import matplotlib.pyplot as plt"
   ]
  },
  {
   "cell_type": "code",
   "execution_count": 34,
   "id": "9925ef69",
   "metadata": {},
   "outputs": [
    {
     "name": "stdout",
     "output_type": "stream",
     "text": [
      "Data Visualization and Exploration...\n"
     ]
    }
   ],
   "source": [
    "print(\"Data Visualization and Exploration...\")"
   ]
  },
  {
   "cell_type": "code",
   "execution_count": 6,
   "id": "e3db18d1",
   "metadata": {},
   "outputs": [],
   "source": [
    "# loading dataset from train.csv file \n",
    "dataset = pd.read_csv('./train.csv')\n"
   ]
  },
  {
   "cell_type": "code",
   "execution_count": 7,
   "id": "2c1df4aa",
   "metadata": {},
   "outputs": [
    {
     "name": "stdout",
     "output_type": "stream",
     "text": [
      "   trip_duration  distance_traveled  num_of_passengers   fare  tip   \n",
      "0          748.0               2.75                1.0   75.0   24  \\\n",
      "1         1187.0               3.43                1.0  105.0   24   \n",
      "\n",
      "   miscellaneous_fees  total_fare  surge_applied  \n",
      "0                 6.3       105.3              0  \n",
      "1                13.2       142.2              0  \n"
     ]
    }
   ],
   "source": [
    "#print the first two rows of dataset\n",
    "print(dataset.head(2))"
   ]
  },
  {
   "cell_type": "code",
   "execution_count": 8,
   "id": "e497e25d",
   "metadata": {},
   "outputs": [
    {
     "name": "stdout",
     "output_type": "stream",
     "text": [
      "<class 'pandas.core.frame.DataFrame'>\n",
      "RangeIndex: 209673 entries, 0 to 209672\n",
      "Data columns (total 8 columns):\n",
      " #   Column              Non-Null Count   Dtype  \n",
      "---  ------              --------------   -----  \n",
      " 0   trip_duration       209673 non-null  float64\n",
      " 1   distance_traveled   209673 non-null  float64\n",
      " 2   num_of_passengers   209673 non-null  float64\n",
      " 3   fare                209673 non-null  float64\n",
      " 4   tip                 209673 non-null  int64  \n",
      " 5   miscellaneous_fees  209673 non-null  float64\n",
      " 6   total_fare          209673 non-null  float64\n",
      " 7   surge_applied       209673 non-null  int64  \n",
      "dtypes: float64(6), int64(2)\n",
      "memory usage: 12.8 MB\n",
      "None\n"
     ]
    }
   ],
   "source": [
    "#check information of dataset columns\n",
    "print(dataset.info())"
   ]
  },
  {
   "cell_type": "code",
   "execution_count": 9,
   "id": "ca0dd1c7",
   "metadata": {},
   "outputs": [
    {
     "name": "stdout",
     "output_type": "stream",
     "text": [
      "       trip_duration  distance_traveled  num_of_passengers           fare   \n",
      "count  209673.000000      209673.000000      209673.000000  209673.000000  \\\n",
      "mean     1173.181478           5.054431           1.292808      99.623431   \n",
      "std      4775.653621         125.217419           0.930754      85.602702   \n",
      "min         0.000000           0.020000           0.000000       0.000000   \n",
      "25%       446.000000           1.950000           1.000000      52.500000   \n",
      "50%       707.000000           3.200000           1.000000      75.000000   \n",
      "75%      1098.000000           5.730000           1.000000     116.250000   \n",
      "max     86387.000000       57283.910000           9.000000    4466.250000   \n",
      "\n",
      "                 tip  miscellaneous_fees     total_fare  surge_applied  \n",
      "count  209673.000000       209673.000000  209673.000000  209673.000000  \n",
      "mean       13.030824           15.136829     127.791084       0.280523  \n",
      "std        20.367764           12.553436      98.797374       0.449256  \n",
      "min         0.000000           -0.500000       0.000000       0.000000  \n",
      "25%         0.000000            6.000000      70.200000       0.000000  \n",
      "50%         9.000000            9.750000     101.700000       0.000000  \n",
      "75%        20.000000           26.450000     152.250000       1.000000  \n",
      "max      2500.000000          435.000000    4472.250000       1.000000  \n"
     ]
    }
   ],
   "source": [
    "#check features of dataset\n",
    "print(dataset.describe())"
   ]
  },
  {
   "cell_type": "code",
   "execution_count": 36,
   "id": "67a2c436",
   "metadata": {},
   "outputs": [
    {
     "name": "stdout",
     "output_type": "stream",
     "text": [
      "DataPre-processing and cleaning\n"
     ]
    }
   ],
   "source": [
    "print(\"DataPre-processing and cleaning\")"
   ]
  },
  {
   "cell_type": "code",
   "execution_count": 10,
   "id": "592e88f4",
   "metadata": {},
   "outputs": [
    {
     "name": "stdout",
     "output_type": "stream",
     "text": [
      "No null value present in dataset!\n"
     ]
    }
   ],
   "source": [
    "#Check if any value present in dataset is null or not\n",
    "\n",
    "def checkIfNullPresent(dataset):\n",
    "    for val in dataset.isna().sum():\n",
    "        if val!=0:\n",
    "            return \"Null value is present in dataset!\"\n",
    "    return \"No null value present in dataset!\"\n",
    "\n",
    "\n",
    "print(checkIfNullPresent(dataset))"
   ]
  },
  {
   "cell_type": "code",
   "execution_count": 11,
   "id": "857c9f93",
   "metadata": {},
   "outputs": [],
   "source": [
    "# Since there is no missing value present we'll keep our dataset as it is\n",
    "# if it would be there then we could have used \n",
    "# following steps\n",
    "# drop column with missing values or imputatiion or any other method"
   ]
  },
  {
   "cell_type": "code",
   "execution_count": 12,
   "id": "1d0d6d9c",
   "metadata": {},
   "outputs": [],
   "source": [
    "# Creating indepened variable X \n",
    "# and a depenedent variable y\n",
    "X = dataset.iloc[:,dataset.columns!='total_fair']\n",
    "y = dataset['total_fare']\n"
   ]
  },
  {
   "cell_type": "code",
   "execution_count": null,
   "id": "c05ed2f4",
   "metadata": {},
   "outputs": [],
   "source": [
    "#normalisation of data by dividing 255 because the range of pixels are 0 to 256 so it will\n",
    "# convert datas in the range of 0 to 1.\n",
    "X /=255\n",
    "y /=255"
   ]
  },
  {
   "cell_type": "code",
   "execution_count": 37,
   "id": "b4b841c6",
   "metadata": {},
   "outputs": [
    {
     "name": "stdout",
     "output_type": "stream",
     "text": [
      "(209673, 8)\n",
      "(209673,)\n"
     ]
    }
   ],
   "source": [
    "#check the shape of X and y\n",
    "print(X.shape)\n",
    "print(y.shape)"
   ]
  },
  {
   "cell_type": "code",
   "execution_count": null,
   "id": "36af8573",
   "metadata": {},
   "outputs": [],
   "source": []
  },
  {
   "cell_type": "code",
   "execution_count": null,
   "id": "94fd8df8",
   "metadata": {},
   "outputs": [],
   "source": []
  },
  {
   "cell_type": "code",
   "execution_count": 15,
   "id": "0bafc671",
   "metadata": {},
   "outputs": [
    {
     "data": {
      "image/png": "[encoded data removed]",
      "text/plain": [
       "<Figure size 640x480 with 1 Axes>"
      ]
     },
     "metadata": {},
     "output_type": "display_data"
    }
   ],
   "source": [
    "#Data visualisation using matplot lib\n",
    "# Plotting a graph between taxy fare and distance travelled.\n",
    "plt.scatter(\n",
    "    X.distance_traveled,\n",
    "    y,\n",
    "    s=None,\n",
    "    c=None,\n",
    "    marker=None,\n",
    "    cmap=None,\n",
    "    norm=None,\n",
    "    vmin=None,\n",
    "    vmax=None,\n",
    "    alpha=None,\n",
    "    linewidths=None\n",
    ")\n",
    "plt.title(\"Taxy fare Vs Distrance Travelled\")\n",
    "plt.xlabel(\"Travelled Distance\")\n",
    "plt.ylabel(\"Taxi fare\")\n",
    "plt.show()"
   ]
  },
  {
   "cell_type": "code",
   "execution_count": 16,
   "id": "1f750390",
   "metadata": {},
   "outputs": [
    {
     "name": "stdout",
     "output_type": "stream",
     "text": [
      "From above visualisation we can see that very few people have travelled more than 200 most of them have travelled between 0 to 50 only.\n"
     ]
    }
   ],
   "source": [
    "print(\"From above visualisation we can see that very few people have travelled more than 200 most of them have travelled between 0 to 50 only.\")"
   ]
  },
  {
   "cell_type": "code",
   "execution_count": 17,
   "id": "30e7a12c",
   "metadata": {},
   "outputs": [
    {
     "data": {
      "image/png": "[encoded data removed]",
      "text/plain": [
       "<Figure size 640x480 with 1 Axes>"
      ]
     },
     "metadata": {},
     "output_type": "display_data"
    }
   ],
   "source": [
    "# Plotting a graph between taxy fare and trip duration.\n",
    "plt.scatter(\n",
    "    X.trip_duration,\n",
    "    y,\n",
    "    s=None,\n",
    "    c=None,\n",
    "    marker=None,\n",
    "    cmap=None,\n",
    "    norm=None,\n",
    "    vmin=None,\n",
    "    vmax=None,\n",
    "    alpha=None,\n",
    "    linewidths=None\n",
    ")\n",
    "plt.title(\"Taxy fare Vs Trip duration\")\n",
    "plt.xlabel(\"Trip duration\")\n",
    "plt.ylabel(\"Taxi fare\")\n",
    "plt.show()"
   ]
  },
  {
   "cell_type": "code",
   "execution_count": 18,
   "id": "38bc5ca7",
   "metadata": {},
   "outputs": [
    {
     "name": "stdout",
     "output_type": "stream",
     "text": [
      "From the above visualation it can be observed the no. of people is more at less time of duration and less taxy fare as well.\n"
     ]
    }
   ],
   "source": [
    "print(\"From the above visualation it can be observed the no. of people is more at less time of duration and less taxy fare as well.\")"
   ]
  },
  {
   "cell_type": "code",
   "execution_count": 19,
   "id": "99b15e1a",
   "metadata": {},
   "outputs": [
    {
     "data": {
      "image/png": "[encoded data removed]",
      "text/plain": [
       "<Figure size 640x480 with 1 Axes>"
      ]
     },
     "metadata": {},
     "output_type": "display_data"
    }
   ],
   "source": [
    "# Plotting a graph between taxy fare and num of passengers.\n",
    "plt.scatter(\n",
    "    X.num_of_passengers,\n",
    "    y,\n",
    "    s=None,\n",
    "    c=None,\n",
    "    marker=None,\n",
    "    cmap=None,\n",
    "    norm=None,\n",
    "    vmin=None,\n",
    "    vmax=None,\n",
    "    alpha=None,\n",
    "    linewidths=None\n",
    ")\n",
    "plt.title(\"Taxy fare Vs Num of Passengers\")\n",
    "plt.xlabel(\"Num of Passengers\")\n",
    "plt.ylabel(\"Taxi fare\")\n",
    "plt.show()"
   ]
  },
  {
   "cell_type": "code",
   "execution_count": 20,
   "id": "59ab1151",
   "metadata": {},
   "outputs": [
    {
     "name": "stdout",
     "output_type": "stream",
     "text": [
      "From above we can see if taxi fare is less the no. of people is more\n"
     ]
    }
   ],
   "source": [
    "print(\"From above we can see if taxi fare is less the no. of people is more\")"
   ]
  },
  {
   "cell_type": "code",
   "execution_count": 38,
   "id": "ab5b9491",
   "metadata": {},
   "outputs": [
    {
     "name": "stdout",
     "output_type": "stream",
     "text": [
      "Model Building\n"
     ]
    }
   ],
   "source": [
    "print(\"Model Building\")"
   ]
  },
  {
   "cell_type": "code",
   "execution_count": 21,
   "id": "680f5126",
   "metadata": {},
   "outputs": [],
   "source": [
    "# import libararies for train-test-split and LinearRegression model\n",
    "from sklearn.model_selection import train_test_split\n",
    "from sklearn.linear_model import LinearRegression\n",
    "from sklearn.metrics import mean_absolute_error"
   ]
  },
  {
   "cell_type": "code",
   "execution_count": 43,
   "id": "9e1e0864",
   "metadata": {},
   "outputs": [
    {
     "name": "stdout",
     "output_type": "stream",
     "text": [
      "Build Model/s using 1) Linear Regression \n"
     ]
    }
   ],
   "source": [
    "print(\"Build Model/s using 1) Linear Regression \")"
   ]
  },
  {
   "cell_type": "code",
   "execution_count": 22,
   "id": "deaa0eb8",
   "metadata": {},
   "outputs": [],
   "source": [
    "# creating a function complile model which will take two arguments train and test\n",
    "# and it will fit the model,compile it then will return an object of compliled and trained model\n",
    "def compileTrainModel(X_train,y_train):\n",
    "    model = LinearRegression()\n",
    "    model.fit(X_train,y_train)\n",
    "    \n",
    "    return model\n",
    "\n",
    "#visualization of medel prediction\n",
    "def model_visualisation(X,y,X_train,model):\n",
    "    plt.scatter(X.num_of_passengers,y,color='blue')\n",
    "    plt.scatter(X.distance_traveled,y,color='red')\n",
    "    plt.scatter(X.trip_duration,y,color='green')\n",
    "\n",
    "\n",
    "    plt.plot(X_train,model.predict(X_train),color='wheat')"
   ]
  },
  {
   "cell_type": "code",
   "execution_count": 39,
   "id": "6de6f229",
   "metadata": {},
   "outputs": [],
   "source": [
    "# splitting data into traing,test, validation for Case 1\n",
    "# where training size is 80% and test size is 20%.\n",
    "# and random a state = 42\n",
    "X_train, X_test, y_train, y_test = train_test_split(X, y, test_size=0.20, random_state=42)\n",
    "\n",
    "\n",
    "\n",
    "# splitting data into traing,test, validation for\n",
    "# Case 2\n",
    "# where training size is 10% and test size is 90%.\n",
    "# and a random state = 42\n",
    "X_train_2, X_test_2, y_train_2, y_test_2 = train_test_split(X, y, test_size=0.90, random_state=42)"
   ]
  },
  {
   "cell_type": "code",
   "execution_count": 40,
   "id": "e592555c",
   "metadata": {},
   "outputs": [],
   "source": [
    "model_1 = compileTrainModel(X_train,y_train)\n",
    "model_2 = compileTrainModel(X_train_2,y_train_2)"
   ]
  },
  {
   "cell_type": "code",
   "execution_count": 41,
   "id": "6e751b2f",
   "metadata": {},
   "outputs": [
    {
     "name": "stdout",
     "output_type": "stream",
     "text": [
      "for case 1: 80% train and 20% test data\n",
      "MAE:  3.792252893676581e-15\n"
     ]
    }
   ],
   "source": [
    "print(\"for case 1: 80% train and 20% test data\")\n",
    "print(\"MAE: \",mean_absolute_error(y_test,model_1.predict(X_test)))"
   ]
  },
  {
   "cell_type": "code",
   "execution_count": 42,
   "id": "cf7188e8",
   "metadata": {},
   "outputs": [
    {
     "name": "stdout",
     "output_type": "stream",
     "text": [
      "for case 2: 10% train and 90% test data\n",
      "MAE:  1.6073612970985598e-15\n"
     ]
    }
   ],
   "source": [
    "print(\"for case 2: 10% train and 90% test data\")\n",
    "print(\"MAE: \",mean_absolute_error(y_test_2,model_2.predict(X_test_2)))"
   ]
  },
  {
   "cell_type": "code",
   "execution_count": 44,
   "id": "7d934648",
   "metadata": {},
   "outputs": [
    {
     "name": "stdout",
     "output_type": "stream",
     "text": [
      "Do the prediction for the test data and display the results for the inference. Calculate all the evaluation metrics and choose the best for your model. Justify your answer.\n"
     ]
    }
   ],
   "source": [
    "print(\"Do the prediction for the test data and display the results for the inference. Calculate all the evaluation metrics and choose the best for your model. Justify your answer.\")"
   ]
  },
  {
   "cell_type": "code",
   "execution_count": 45,
   "id": "5b7f2465",
   "metadata": {},
   "outputs": [],
   "source": [
    "# from the above result we can see \n",
    "MAE_CASE_1 = mean_absolute_error(y_test,model_1.predict(X_test))\n",
    "MAE_CASE_2 = mean_absolute_error(y_test_2,model_2.predict(X_test_2))"
   ]
  },
  {
   "cell_type": "code",
   "execution_count": 46,
   "id": "db8e40fd",
   "metadata": {},
   "outputs": [],
   "source": [
    "def displayAnswer():\n",
    "    if MAE_CASE_1>MAE_CASE_2:\n",
    "        print(\"model_2 for case - 2: 10 % of training data & 90% of test data is better as it has less error!\")\n",
    "    else:\n",
    "        print(\"model_1 for case - 1: 80% of training data & 20% of test is is performing better as it has less error!\")"
   ]
  },
  {
   "cell_type": "code",
   "execution_count": 47,
   "id": "a940807b",
   "metadata": {},
   "outputs": [
    {
     "name": "stdout",
     "output_type": "stream",
     "text": [
      "model_2 for case -2: 10 % of training data & 90% of test data is better as it has less error!\n"
     ]
    }
   ],
   "source": [
    "displayAnswer()"
   ]
  },
  {
   "cell_type": "code",
   "execution_count": null,
   "id": "0a61864f",
   "metadata": {},
   "outputs": [],
   "source": []
  },
  {
   "cell_type": "code",
   "execution_count": null,
   "id": "4a41b02d",
   "metadata": {},
   "outputs": [],
   "source": []
  }
 ],
 "metadata": {
  "kernelspec": {
   "display_name": "Python 3 (ipykernel)",
   "language": "python",
   "name": "python3"
  },
  "language_info": {
   "codemirror_mode": {
    "name": "ipython",
    "version": 3
   },
   "file_extension": ".py",
   "mimetype": "text/x-python",
   "name": "python",
   "nbconvert_exporter": "python",
   "pygments_lexer": "ipython3",
   "version": "3.10.9"
  }
 },
 "nbformat": 4,
 "nbformat_minor": 5
}
